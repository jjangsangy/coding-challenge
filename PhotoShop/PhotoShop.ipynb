{
 "metadata": {
  "name": "",
  "signature": "sha256:ecc9b307a6c8d1a953de1a32b0864d24c3f8ca0946676462e99ca72696f1d9b4"
 },
 "nbformat": 3,
 "nbformat_minor": 0,
 "worksheets": [
  {
   "cells": [
    {
     "cell_type": "code",
     "collapsed": false,
     "input": [
      "from __future__ import print_function"
     ],
     "language": "python",
     "metadata": {
      "run_control": {
       "read_only": false
      }
     },
     "outputs": [],
     "prompt_number": 1
    },
    {
     "cell_type": "code",
     "collapsed": false,
     "input": [
      "import csv\n",
      "import sys\n",
      "import time\n",
      "from threading import Thread\n",
      "import threading"
     ],
     "language": "python",
     "metadata": {
      "run_control": {
       "read_only": false
      }
     },
     "outputs": [],
     "prompt_number": 3
    },
    {
     "cell_type": "code",
     "collapsed": false,
     "input": [
      "from collections import namedtuple\n",
      "from functools import wraps"
     ],
     "language": "python",
     "metadata": {
      "run_control": {
       "read_only": false
      }
     },
     "outputs": [],
     "prompt_number": 4
    },
    {
     "cell_type": "heading",
     "level": 1,
     "metadata": {},
     "source": [
      "Classes"
     ]
    },
    {
     "cell_type": "code",
     "collapsed": false,
     "input": [
      "Customer = namedtuple('Customer', ['name', 'photos'])"
     ],
     "language": "python",
     "metadata": {
      "run_control": {
       "read_only": false
      }
     },
     "outputs": [],
     "prompt_number": 5
    },
    {
     "cell_type": "code",
     "collapsed": false,
     "input": [
      "class Developer(Thread):\n",
      "    \"\"\"\n",
      "    Developer Worker class. Inherits from Threading module for performing\n",
      "    synchronous lock based concurrency.\n",
      "    \"\"\"\n",
      "    def __init__(self, dev, queue):\n",
      "        Thread.__init__(self)\n",
      "        self.dev = dev\n",
      "        self.queue = queue\n",
      "\n",
      "    def run(self):\n",
      "        \"\"\"Overloading thread handler\"\"\"\n",
      "        while not self._queue.is_empty():\n",
      "            wait = self.wait_time(film)\n",
      "            client, film = self.queue.dequeue()\n",
      "            print('Developer: [{name:6}]\\t Client: {client:10} Time: {wait:3} sec'.format(\n",
      "                name=self.dev,\n",
      "                client=client,\n",
      "                wait=wait,\n",
      "            ))\n",
      "            sys.stdout.flush()\n",
      "            time.sleep(wait/10)\n",
      "\n",
      "    @staticmethod\n",
      "    def wait_time(film):\n",
      "        leftover = film % 10\n",
      "        return (film - leftover) + leftover*3"
     ],
     "language": "python",
     "metadata": {
      "run_control": {
       "read_only": false
      }
     },
     "outputs": [],
     "prompt_number": 53
    },
    {
     "cell_type": "code",
     "collapsed": false,
     "input": [
      "class PhotoQueue(object):\n",
      "    \"\"\"An abstract queue data type representation\"\"\"\n",
      "    def __init__(self):\n",
      "        self._jobs = []\n",
      "        \n",
      "    def __repr__(self):\n",
      "        return '<PhotoQueue [{0}]>'.format(self.__len__())\n",
      "    \n",
      "    def __next__(self):\n",
      "        \"\"\"Implement generator protocol\"\"\"\n",
      "        if self.is_empty():\n",
      "            raise StopIteration\n",
      "        return self.dequeue()\n",
      "    \n",
      "    def __iter__(self):\n",
      "        \"\"\"Implement iterator protocol\"\"\"\n",
      "        return reversed(self._jobs)\n",
      "    \n",
      "    def __len__(self):\n",
      "        \"\"\"Gets the size of the queue\"\"\"\n",
      "        return len(self._jobs)\n",
      "    \n",
      "    def is_empty(self):\n",
      "        if not self._jobs:\n",
      "            return True\n",
      "        return False\n",
      "    \n",
      "    def peek(self):\n",
      "        \"\"\"Returns the most forward facing object without removing it\"\"\"\n",
      "        if self.is_empty():\n",
      "            raise ValueError('Queue is empty')\n",
      "        return self._jobs[-1]\n",
      "\n",
      "    def enqueue(self, customer):\n",
      "        \"\"\"Takes in a Customer and adds them to the queue.\"\"\"\n",
      "        return self._jobs.insert(0, customer)\n",
      "\n",
      "    def dequeue(self):\n",
      "        \"\"\"Returns a customers completed job\"\"\"\n",
      "        return self._jobs.pop()"
     ],
     "language": "python",
     "metadata": {
      "run_control": {
       "read_only": false
      }
     },
     "outputs": [],
     "prompt_number": 11
    },
    {
     "cell_type": "code",
     "collapsed": false,
     "input": [
      "def reader(filepath):\n",
      "    \"\"\"\n",
      "    Reads from the filesystem and performs unpacking into task queue\n",
      "    \n",
      "    Parameters:\n",
      "    filepath:   str -> qualified filesystem path\n",
      "    \n",
      "    Returns:\n",
      "    <PhotoQueue> objects enqueued with customer information.\n",
      "    \"\"\" \n",
      "    q = PhotoQueue()\n",
      "    with open(filepath, 'rt') as fp:\n",
      "\n",
      "        reader = csv.reader(fp)\n",
      "        for row in reader:\n",
      "            name, photos = row\n",
      "            q.enqueue(Customer(name, int(photos)))\n",
      "            \n",
      "    return q"
     ],
     "language": "python",
     "metadata": {
      "run_control": {
       "read_only": false
      }
     },
     "outputs": [],
     "prompt_number": 12
    },
    {
     "cell_type": "code",
     "collapsed": false,
     "input": [
      "def main(filepath):\n",
      "    jobqueue = reader(filepath)\n",
      "    for worker in ('Apple', 'Google'):\n",
      "        work = Developer(worker, jobqueue)\n",
      "        work.start()"
     ],
     "language": "python",
     "metadata": {},
     "outputs": [
      {
       "output_type": "stream",
       "stream": "stdout",
       "text": [
        "Developer: [Google]\t Client: Beverly    Time:  77 sec\n"
       ]
      }
     ],
     "prompt_number": 57
    },
    {
     "cell_type": "code",
     "collapsed": false,
     "input": [
      "main('data/Photos.csv')"
     ],
     "language": "python",
     "metadata": {},
     "outputs": [
      {
       "output_type": "stream",
       "stream": "stdout",
       "text": [
        "Developer: [Apple ]\t Client: Sue        Time:  22 sec\n",
        "Developer: [Google]\t Client: Dave       Time:  27 sec\n"
       ]
      },
      {
       "output_type": "stream",
       "stream": "stdout",
       "text": [
        "Developer: [Apple ]\t Client: Kyle       Time:  12 sec\n"
       ]
      },
      {
       "output_type": "stream",
       "stream": "stdout",
       "text": [
        "Developer: [Google]\t Client: Jerry      Time:  21 sec\n"
       ]
      },
      {
       "output_type": "stream",
       "stream": "stdout",
       "text": [
        "Developer: [Apple ]\t Client: Rex        Time:   6 sec\n"
       ]
      },
      {
       "output_type": "stream",
       "stream": "stdout",
       "text": [
        "Developer: [Apple ]\t Client: Ben        Time:  31 sec\n"
       ]
      },
      {
       "output_type": "stream",
       "stream": "stdout",
       "text": [
        "Developer: [Google]\t Client: Nick       Time:  10 sec\n"
       ]
      },
      {
       "output_type": "stream",
       "stream": "stdout",
       "text": [
        "Developer: [Google]\t Client: Rachel     Time:  16 sec\n"
       ]
      },
      {
       "output_type": "stream",
       "stream": "stdout",
       "text": [
        "Developer: [Google]\t Client: Matt       Time:  49 sec\n"
       ]
      },
      {
       "output_type": "stream",
       "stream": "stdout",
       "text": [
        "Developer: [Apple ]\t Client: Vicky      Time:  37 sec\n"
       ]
      },
      {
       "output_type": "stream",
       "stream": "stdout",
       "text": [
        "Developer: [Google]\t Client: Sang       Time:  44 sec\n"
       ]
      },
      {
       "output_type": "stream",
       "stream": "stdout",
       "text": [
        "Developer: [Apple ]\t Client: Roy        Time:  24 sec\n"
       ]
      },
      {
       "output_type": "stream",
       "stream": "stdout",
       "text": [
        "Developer: [Apple ]\t Client: Harry      Time:  81 sec\n"
       ]
      },
      {
       "output_type": "stream",
       "stream": "stdout",
       "text": [
        "Developer: [Apple ]\t Client: Alex       Time:  30 sec\n"
       ]
      },
      {
       "output_type": "stream",
       "stream": "stdout",
       "text": [
        "Developer: [Google]\t Client: Jonathan   Time:  70 sec\n"
       ]
      },
      {
       "output_type": "stream",
       "stream": "stdout",
       "text": [
        "Developer: [Google]\t Client: Kenneth    Time: 111 sec\n"
       ]
      },
      {
       "output_type": "stream",
       "stream": "stdout",
       "text": [
        "Developer: [Apple ]\t Client: Joyce      Time: 137 sec\n"
       ]
      },
      {
       "output_type": "stream",
       "stream": "stdout",
       "text": [
        "Developer: [Apple ]\t Client: Van        Time:  45 sec\n"
       ]
      },
      {
       "output_type": "stream",
       "stream": "stdout",
       "text": [
        "Developer: [Google]\t Client: Beverly    Time:  77 sec\n"
       ]
      },
      {
       "output_type": "stream",
       "stream": "stdout",
       "text": [
        "Developer: [Apple ]\t Client: Abe        Time: 128 sec\n",
        "Developer: [Google]\t Client: Derrick    Time:  42 sec\n"
       ]
      },
      {
       "output_type": "stream",
       "stream": "stdout",
       "text": [
        "Developer: [Google]\t Client: Matt       Time:  49 sec\n"
       ]
      },
      {
       "output_type": "stream",
       "stream": "stdout",
       "text": [
        "Developer: [Google]\t Client: Barry      Time:  55 sec\n"
       ]
      },
      {
       "output_type": "stream",
       "stream": "stdout",
       "text": [
        "Developer: [Apple ]\t Client: Roy        Time:  24 sec\n"
       ]
      },
      {
       "output_type": "stream",
       "stream": "stdout",
       "text": [
        "Developer: [Apple ]\t Client: Harry      Time:  81 sec\n"
       ]
      },
      {
       "output_type": "stream",
       "stream": "stdout",
       "text": [
        "Developer: [Google]\t Client: Kenneth    Time: 111 sec\n"
       ]
      },
      {
       "output_type": "stream",
       "stream": "stdout",
       "text": [
        "Developer: [Google]\t Client: Courtney   Time:  21 sec\n"
       ]
      },
      {
       "output_type": "stream",
       "stream": "stdout",
       "text": [
        "Developer: [Google]\t Client: Angela     Time:  65 sec\n"
       ]
      },
      {
       "output_type": "stream",
       "stream": "stdout",
       "text": [
        "Developer: [Apple ]\t Client: Vanessa    Time:  29 sec\n"
       ]
      },
      {
       "output_type": "stream",
       "stream": "stdout",
       "text": [
        "Developer: [Apple ]\t Client: Van        Time:  45 sec\n"
       ]
      },
      {
       "output_type": "stream",
       "stream": "stdout",
       "text": [
        "Developer: [Apple ]\t Client: Irving     Time:  88 sec\n"
       ]
      },
      {
       "output_type": "stream",
       "stream": "stdout",
       "text": [
        "Developer: [Google]\t Client: Jordan     Time:  26 sec\n"
       ]
      },
      {
       "output_type": "stream",
       "stream": "stdout",
       "text": [
        "Developer: [Google]\t Client: Abe        Time: 128 sec\n",
        "Developer: [Apple ]\t Client: Derrick    Time:  42 sec\n"
       ]
      },
      {
       "output_type": "stream",
       "stream": "stdout",
       "text": [
        "Developer: [Google]\t Client: Lauren     Time:  77 sec\n"
       ]
      },
      {
       "output_type": "stream",
       "stream": "stdout",
       "text": [
        "Developer: [Apple ]\t Client: Barry      Time:  55 sec\n"
       ]
      },
      {
       "output_type": "stream",
       "stream": "stdout",
       "text": [
        "Developer: [Apple ]\t Client: Evan       Time:  34 sec\n"
       ]
      },
      {
       "output_type": "stream",
       "stream": "stdout",
       "text": [
        "Developer: [Apple ]\t Client: Leo        Time:  13 sec\n"
       ]
      },
      {
       "output_type": "stream",
       "stream": "stdout",
       "text": [
        "Developer: [Apple ]\t Client: Courtney   Time:  21 sec\n"
       ]
      },
      {
       "output_type": "stream",
       "stream": "stdout",
       "text": [
        "Developer: [Apple ]\t Client: Angela     Time:  65 sec\n"
       ]
      },
      {
       "output_type": "stream",
       "stream": "stdout",
       "text": [
        "Developer: [Google]\t Client: Vanessa    Time:  29 sec\n"
       ]
      },
      {
       "output_type": "stream",
       "stream": "stdout",
       "text": [
        "Developer: [Google]\t Client: Irving     Time:  88 sec\n"
       ]
      },
      {
       "output_type": "stream",
       "stream": "stdout",
       "text": [
        "Developer: [Apple ]\t Client: Jordan     Time:  26 sec\n"
       ]
      },
      {
       "output_type": "stream",
       "stream": "stdout",
       "text": [
        "Developer: [Apple ]\t Client: Lauren     Time:  77 sec\n"
       ]
      },
      {
       "output_type": "stream",
       "stream": "stdout",
       "text": [
        "Developer: [Google]\t Client: Evan       Time:  34 sec\n"
       ]
      },
      {
       "output_type": "stream",
       "stream": "stdout",
       "text": [
        "Developer: [Google]\t Client: Leo        Time:  13 sec\n"
       ]
      }
     ],
     "prompt_number": 58
    },
    {
     "cell_type": "code",
     "collapsed": false,
     "input": [],
     "language": "python",
     "metadata": {},
     "outputs": []
    }
   ],
   "metadata": {}
  }
 ]
}